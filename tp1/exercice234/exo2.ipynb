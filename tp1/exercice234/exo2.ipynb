{
 "cells": [
  {
   "cell_type": "code",
   "execution_count": 1,
   "metadata": {},
   "outputs": [],
   "source": [
    "import math             #librairie math\n",
    "from math import *\n",
    "\n",
    "class Vecteur(object):\n",
    "    def __init__(self, vect):   #initialisation d'un vecteur à 3 dimensions\n",
    "        self.x = vect[0]\n",
    "        self.y = vect[1]\n",
    "        self.z = vect[2]\n",
    "        self.vect = vect\n",
    "    \n",
    "    def additionner(self,vect2):    #somme du vecteur de base avec un autre et le retourner\n",
    "        x2 = vect2[0] + self.x\n",
    "        y2 = vect2[1] + self.y\n",
    "        z2 = vect2[2] + self.z\n",
    "        self.vect = [x2,y2,z2]\n",
    "        return [x2,y2,z2]\n",
    "    \n",
    "    def calculerNorme(self):    #calculer la norme du vecteur de base et le retourner\n",
    "        m = math.sqrt(self.x**2 + self.y**2 + self.z**2)\n",
    "        return m\n",
    "    \n",
    "    def calculerProduitScalaire(self,vect3):    #calculer le produit scalaire avec un autre vecteur et le retourner\n",
    "        m = self.x*vect3[0] + self.y*vect3[1] + self.z*vect3[2]\n",
    "        return m\n",
    "    \n",
    "    def tourner(self,alpha):    #retourner les coordonnées du nouveau vecteur après rotation d'un angle alpha par rapport au repere\n",
    "        x2 = cos(alpha)*self.x - sin(alpha)*self.y\n",
    "        y2 = sin(alpha)*self.x + cos(alpha)*self.y\n",
    "        z2 = self.z\n",
    "        self.vect = [x2,y2,z2]\n",
    "        return [x2,y2,z2]\n",
    "    \n",
    "    def afficher(self):     #afficher le vecteur self\n",
    "        print(self.vect)"
   ]
  },
  {
   "cell_type": "code",
   "execution_count": 2,
   "metadata": {},
   "outputs": [
    {
     "name": "stdout",
     "output_type": "stream",
     "text": [
      "[2, 2, 4]\n",
      "3.3166247903554\n",
      "10\n",
      "[-1.0000000000000002, -0.9999999999999999, 3]\n",
      "[-1.0000000000000002, -0.9999999999999999, 3]\n"
     ]
    }
   ],
   "source": [
    "\n",
    "vect = [1,1,3]\n",
    "obj = Vecteur(vect)\n",
    "v = [1,1,1]\n",
    "vect2 = obj.additionner(v)\n",
    "print(vect2)\n",
    "no = obj.calculerNorme()\n",
    "print(no)\n",
    "prod = obj.calculerProduitScalaire([2,2,2])\n",
    "print(prod)\n",
    "rot = obj.tourner(pi)\n",
    "print(rot)\n",
    "obj.afficher()"
   ]
  },
  {
   "cell_type": "code",
   "execution_count": 3,
   "metadata": {},
   "outputs": [],
   "source": [
    "class Triangle(object):     \n",
    "    def __init__(self, vecteur):    #initialisation d'un triangle\n",
    "        self.point1 = vecteur[0]\n",
    "        self.point2 = vecteur[1]\n",
    "        self.point3 = vecteur[2]\n",
    "        self.vecteur = vecteur\n",
    "\n",
    "    def tourner(self, alpha):   #faire tourner le triangle self\n",
    "        self.point1 = Vecteur(self.point1).tourner(alpha)\n",
    "        self.point2 = Vecteur(self.point2).tourner(alpha)\n",
    "        self.point3 = Vecteur(self.point3).tourner(alpha)\n",
    "        self.vecteur = [self.point1,self.point2,self.point3]\n",
    "        return self.vecteur\n",
    "        \n",
    "    \n",
    "    def afficher(self):     #afficher le triangle self\n",
    "        Vecteur(self.point1).afficher()\n",
    "        Vecteur(self.point2).afficher()\n",
    "        Vecteur(self.point3).afficher()\n",
    "\n",
    "    def deplacer(self,vect):    #deplacer le triangle self\n",
    "        self.point1 = Vecteur(self.point1).additionner(vect)\n",
    "        self.point2 = Vecteur(self.point2).additionner(vect)\n",
    "        self.point3 = Vecteur(self.point3).additionner(vect)\n",
    "        self.vecteur = [self.point1,self.point2,self.point3]\n",
    "        return self.vecteur\n",
    "        "
   ]
  },
  {
   "cell_type": "code",
   "execution_count": 4,
   "metadata": {},
   "outputs": [
    {
     "name": "stdout",
     "output_type": "stream",
     "text": [
      "[0, 0, 0]\n",
      "[1, 0, 0]\n",
      "[1, 1, 0]\n",
      "[-0.0, 0.0, 0]\n",
      "[-1.0, 1.2246467991473532e-16, 0]\n",
      "[-1.0000000000000002, -0.9999999999999999, 0]\n",
      "//////////////////\n",
      "[1.0, 1.0, 1]\n",
      "[0.0, 1.0000000000000002, 1]\n",
      "[-2.220446049250313e-16, 1.1102230246251565e-16, 1]\n"
     ]
    }
   ],
   "source": [
    "vect1 = [0,0,0]\n",
    "vect2 = [1,0,0]\n",
    "vect3 = [1,1,0]\n",
    "vec1 = [vect1,vect2,vect3]\n",
    "oobj = Triangle(vec1)\n",
    "oobj.afficher()\n",
    "oobj.tourner(pi)\n",
    "oobj.afficher()\n",
    "print(\"//////////////////\")\n",
    "oobj.deplacer([1,1,1])\n",
    "oobj.afficher()\n"
   ]
  },
  {
   "cell_type": "code",
   "execution_count": 5,
   "metadata": {},
   "outputs": [],
   "source": [
    "class Couleur(object):\n",
    "    def __init__(self, coul):\n",
    "        self.r = coul[0]\n",
    "        self.v = coul[1]\n",
    "        self.b = coul[2]\n",
    "\n",
    "class Object3D(object):     #creation classe Object3D contenant une liste de triangle, un centre et une couleur\n",
    "    def __init__(self,liste,centre,coul):\n",
    "        self.liste = liste\n",
    "        self.centre = centre\n",
    "        self.coul = coul\n",
    "    \n",
    "    def afficher(self):     #affiche les coordonnées de chaque triangle\n",
    "        m = len(self.liste)\n",
    "        for k in range(0,m):\n",
    "            Triangle(self.liste[k]).afficher()\n",
    "    \n",
    "    def ajouterTriangle(self, triangle):        #ajoute un triangle à la liste directement\n",
    "        self.liste.append(triangle)\n",
    "        \n",
    "    def deplacer(self, vect):       #deplacer tout l'object par translation selon un vecteur\n",
    "        m = len(self.liste)\n",
    "        for k in range(0,m):\n",
    "            self.liste[k] = Triangle(self.liste[k]).deplacer(vect)\n",
    "            \n",
    "        "
   ]
  },
  {
   "cell_type": "code",
   "execution_count": 6,
   "metadata": {},
   "outputs": [
    {
     "name": "stdout",
     "output_type": "stream",
     "text": [
      "[0, 0, 0]\n",
      "[1, 0, 0]\n",
      "[1, 1, 0]\n",
      "[0, 0, 0]\n",
      "[3, 1, 0]\n",
      "[1, 5, 0]\n",
      "////////\n",
      "[0, 0, 0]\n",
      "[1, 0, 0]\n",
      "[1, 1, 0]\n",
      "[0, 0, 0]\n",
      "[3, 1, 0]\n",
      "[1, 5, 0]\n",
      "[0, 0, 0]\n",
      "[1, 0, 0]\n",
      "[1, 1, 0]\n",
      "///////\n",
      "[5, 1, 5]\n",
      "[6, 1, 5]\n",
      "[6, 2, 5]\n",
      "[5, 1, 5]\n",
      "[8, 2, 5]\n",
      "[6, 6, 5]\n",
      "[5, 1, 5]\n",
      "[6, 1, 5]\n",
      "[6, 2, 5]\n"
     ]
    }
   ],
   "source": [
    "v1 = [0,0,0]\n",
    "v2 = [3,1,0]\n",
    "v3 = [1,5,0]\n",
    "vec2 = [v1,v2,v3]\n",
    "liste = [vec1,vec2]\n",
    "centre = [1,1, 0]\n",
    "co = Couleur([355,0,0])\n",
    "obj3 = Object3D(liste,centre,co)\n",
    "obj3.afficher()\n",
    "print(\"////////\")\n",
    "obj3.ajouterTriangle(vec1)\n",
    "obj3.afficher()\n",
    "print(\"///////\")\n",
    "obj3.deplacer([5,1,5])\n",
    "obj3.afficher()\n"
   ]
  }
 ],
 "metadata": {
  "kernelspec": {
   "display_name": "base",
   "language": "python",
   "name": "python3"
  },
  "language_info": {
   "codemirror_mode": {
    "name": "ipython",
    "version": 3
   },
   "file_extension": ".py",
   "mimetype": "text/x-python",
   "name": "python",
   "nbconvert_exporter": "python",
   "pygments_lexer": "ipython3",
   "version": "3.11.5"
  }
 },
 "nbformat": 4,
 "nbformat_minor": 2
}

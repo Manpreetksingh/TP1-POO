{
 "cells": [
  {
   "cell_type": "code",
   "execution_count": 1,
   "metadata": {},
   "outputs": [
    {
     "name": "stdout",
     "output_type": "stream",
     "text": [
      "Manpreet, c'est à vous !\n",
      "Vous avez obtenu: [1, 6, 3]\n"
     ]
    },
    {
     "name": "stdout",
     "output_type": "stream",
     "text": [
      "Nouvelle configuration : [1, 3, 3]\n",
      "Points du joueur Manpreet: 0\n",
      "Jordan, c'est à vous !\n",
      "Vous avez obtenu: [4, 3, 6]\n",
      "Nouvelle configuration : [4, 3, 4]\n",
      "Points du joueur Jordan: 0\n",
      "Shiro, c'est à vous !\n",
      "Vous avez obtenu: [6, 5, 5]\n",
      "Nouvelle configuration : [2, 5, 5]\n",
      "Points du joueur Shiro: 0\n"
     ]
    }
   ],
   "source": [
    "import random\n",
    "\n",
    "class Dé(object):\n",
    "    def __init__(self):\n",
    "        self.valeur = None      #la valeur de la face du dé\n",
    "    \n",
    "    def lancer(self):\n",
    "        self.valeur = random.randint(1,6)       #lancer aléatoire du dé\n",
    "\n",
    "class Joueur(object):\n",
    "    def __init__(self,nom):     #represente le joueur par son nom et son nombre de point\n",
    "        self.nom = nom\n",
    "        self.points = 0\n",
    "\n",
    "    def lancerDes(self):    #le joueur lance les trois dés\n",
    "        des = []\n",
    "        for _ in range(3):\n",
    "            des.append(Dé())\n",
    "        for de in des:\n",
    "            de.lancer()\n",
    "        return des\n",
    "    \n",
    "    def relancerDes(self,des,indice):   #il peut choisir quels dés relancer\n",
    "        for k in indice:\n",
    "            des[k].lancer()\n",
    "\n",
    "    def calculerPoints(self,des):   #calcule le nombre de point en fonction des chiffres obtenus\n",
    "        resultat = [dé.valeur for dé in des]\n",
    "        resultat.sort()     #tri les dés pour faciliter l'attribution des points\n",
    "\n",
    "        if resultat == [1,2,4]: #cas 4, 2, 1\n",
    "            self.points += 10\n",
    "        elif resultat[0] == resultat[1] == 1:    #cas avec deux 1\n",
    "            self.points += resultat[2]\n",
    "        elif resultat[0] + 2 == resultat[1] + 1 == resultat[2]:    #cas de trois chiffres consécutifs\n",
    "            self.points += 2\n",
    "\n",
    "class Jeu:\n",
    "    def __init__(self):\n",
    "        self.joueurs = []   #creation tableau de joueurs\n",
    "\n",
    "    def ajouterJoueur(self, nom):\n",
    "        self.joueurs.append(Joueur(nom))    #ajouter des joueurs\n",
    "\n",
    "    def jouerTour(self):\n",
    "        for joueur in self.joueurs:\n",
    "            print(f\"{joueur.nom}, c'est à vous !\")\n",
    "            des = joueur.lancerDes()    #le joueur lance ses trois dés\n",
    "            print(f\"Vous avez obtenu: {[dé.valeur for dé in des]}\") #affiche la combinaison obtenue\n",
    "\n",
    "            relancer = input(\"Quels dés voulez-vous relancer ? (ex: 0,2) \") #demande les dés à relancer\n",
    "            indice = [int(i) for i in relancer.split(',') if i.strip() and int(i) < 3]  #interprete les indices\n",
    "\n",
    "            joueur.relancerDes(des, indice) #relance des dés\n",
    "            print(f\"Nouvelle configuration : {[dé.valeur for dé in des]}\")  #affichage\n",
    "\n",
    "            joueur.calculerPoints(des)  #calcule des points\n",
    "            print(f\"Points du joueur {joueur.nom}: {joueur.points}\")    #affichage du score\n",
    "\n",
    "jeu = Jeu()\n",
    "jeu.ajouterJoueur(\"Manpreet\")\n",
    "jeu.ajouterJoueur(\"Jordan\")\n",
    "jeu.ajouterJoueur(\"Shiro\")\n",
    "jeu.jouerTour()"
   ]
  }
 ],
 "metadata": {
  "kernelspec": {
   "display_name": "base",
   "language": "python",
   "name": "python3"
  },
  "language_info": {
   "codemirror_mode": {
    "name": "ipython",
    "version": 3
   },
   "file_extension": ".py",
   "mimetype": "text/x-python",
   "name": "python",
   "nbconvert_exporter": "python",
   "pygments_lexer": "ipython3",
   "version": "3.8.10"
  }
 },
 "nbformat": 4,
 "nbformat_minor": 2
}
